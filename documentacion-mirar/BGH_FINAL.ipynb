{
  "nbformat": 4,
  "nbformat_minor": 0,
  "metadata": {
    "colab": {
      "provenance": []
    },
    "kernelspec": {
      "name": "python3",
      "display_name": "Python 3"
    },
    "language_info": {
      "name": "python"
    }
  },
  "cells": [
    {
      "cell_type": "code",
      "execution_count": 2,
      "metadata": {
        "colab": {
          "base_uri": "https://localhost:8080/"
        },
        "id": "ZzkLY72ZPj4O",
        "outputId": "782a6efe-68b6-41f6-ae72-349db5da99a5"
      },
      "outputs": [
        {
          "output_type": "stream",
          "name": "stdout",
          "text": [
            "Requirement already satisfied: ultralytics in /usr/local/lib/python3.10/dist-packages (8.3.36)\n",
            "Requirement already satisfied: numpy>=1.23.0 in /usr/local/lib/python3.10/dist-packages (from ultralytics) (1.26.4)\n",
            "Requirement already satisfied: matplotlib>=3.3.0 in /usr/local/lib/python3.10/dist-packages (from ultralytics) (3.8.0)\n",
            "Requirement already satisfied: opencv-python>=4.6.0 in /usr/local/lib/python3.10/dist-packages (from ultralytics) (4.10.0.84)\n",
            "Requirement already satisfied: pillow>=7.1.2 in /usr/local/lib/python3.10/dist-packages (from ultralytics) (11.0.0)\n",
            "Requirement already satisfied: pyyaml>=5.3.1 in /usr/local/lib/python3.10/dist-packages (from ultralytics) (6.0.2)\n",
            "Requirement already satisfied: requests>=2.23.0 in /usr/local/lib/python3.10/dist-packages (from ultralytics) (2.32.3)\n",
            "Requirement already satisfied: scipy>=1.4.1 in /usr/local/lib/python3.10/dist-packages (from ultralytics) (1.13.1)\n",
            "Requirement already satisfied: torch>=1.8.0 in /usr/local/lib/python3.10/dist-packages (from ultralytics) (2.5.1+cu121)\n",
            "Requirement already satisfied: torchvision>=0.9.0 in /usr/local/lib/python3.10/dist-packages (from ultralytics) (0.20.1+cu121)\n",
            "Requirement already satisfied: tqdm>=4.64.0 in /usr/local/lib/python3.10/dist-packages (from ultralytics) (4.66.6)\n",
            "Requirement already satisfied: psutil in /usr/local/lib/python3.10/dist-packages (from ultralytics) (5.9.5)\n",
            "Requirement already satisfied: py-cpuinfo in /usr/local/lib/python3.10/dist-packages (from ultralytics) (9.0.0)\n",
            "Requirement already satisfied: pandas>=1.1.4 in /usr/local/lib/python3.10/dist-packages (from ultralytics) (2.2.2)\n",
            "Requirement already satisfied: seaborn>=0.11.0 in /usr/local/lib/python3.10/dist-packages (from ultralytics) (0.13.2)\n",
            "Requirement already satisfied: ultralytics-thop>=2.0.0 in /usr/local/lib/python3.10/dist-packages (from ultralytics) (2.0.12)\n",
            "Requirement already satisfied: contourpy>=1.0.1 in /usr/local/lib/python3.10/dist-packages (from matplotlib>=3.3.0->ultralytics) (1.3.1)\n",
            "Requirement already satisfied: cycler>=0.10 in /usr/local/lib/python3.10/dist-packages (from matplotlib>=3.3.0->ultralytics) (0.12.1)\n",
            "Requirement already satisfied: fonttools>=4.22.0 in /usr/local/lib/python3.10/dist-packages (from matplotlib>=3.3.0->ultralytics) (4.55.0)\n",
            "Requirement already satisfied: kiwisolver>=1.0.1 in /usr/local/lib/python3.10/dist-packages (from matplotlib>=3.3.0->ultralytics) (1.4.7)\n",
            "Requirement already satisfied: packaging>=20.0 in /usr/local/lib/python3.10/dist-packages (from matplotlib>=3.3.0->ultralytics) (24.2)\n",
            "Requirement already satisfied: pyparsing>=2.3.1 in /usr/local/lib/python3.10/dist-packages (from matplotlib>=3.3.0->ultralytics) (3.2.0)\n",
            "Requirement already satisfied: python-dateutil>=2.7 in /usr/local/lib/python3.10/dist-packages (from matplotlib>=3.3.0->ultralytics) (2.8.2)\n",
            "Requirement already satisfied: pytz>=2020.1 in /usr/local/lib/python3.10/dist-packages (from pandas>=1.1.4->ultralytics) (2024.2)\n",
            "Requirement already satisfied: tzdata>=2022.7 in /usr/local/lib/python3.10/dist-packages (from pandas>=1.1.4->ultralytics) (2024.2)\n",
            "Requirement already satisfied: charset-normalizer<4,>=2 in /usr/local/lib/python3.10/dist-packages (from requests>=2.23.0->ultralytics) (3.4.0)\n",
            "Requirement already satisfied: idna<4,>=2.5 in /usr/local/lib/python3.10/dist-packages (from requests>=2.23.0->ultralytics) (3.10)\n",
            "Requirement already satisfied: urllib3<3,>=1.21.1 in /usr/local/lib/python3.10/dist-packages (from requests>=2.23.0->ultralytics) (2.2.3)\n",
            "Requirement already satisfied: certifi>=2017.4.17 in /usr/local/lib/python3.10/dist-packages (from requests>=2.23.0->ultralytics) (2024.8.30)\n",
            "Requirement already satisfied: filelock in /usr/local/lib/python3.10/dist-packages (from torch>=1.8.0->ultralytics) (3.16.1)\n",
            "Requirement already satisfied: typing-extensions>=4.8.0 in /usr/local/lib/python3.10/dist-packages (from torch>=1.8.0->ultralytics) (4.12.2)\n",
            "Requirement already satisfied: networkx in /usr/local/lib/python3.10/dist-packages (from torch>=1.8.0->ultralytics) (3.4.2)\n",
            "Requirement already satisfied: jinja2 in /usr/local/lib/python3.10/dist-packages (from torch>=1.8.0->ultralytics) (3.1.4)\n",
            "Requirement already satisfied: fsspec in /usr/local/lib/python3.10/dist-packages (from torch>=1.8.0->ultralytics) (2024.10.0)\n",
            "Requirement already satisfied: sympy==1.13.1 in /usr/local/lib/python3.10/dist-packages (from torch>=1.8.0->ultralytics) (1.13.1)\n",
            "Requirement already satisfied: mpmath<1.4,>=1.1.0 in /usr/local/lib/python3.10/dist-packages (from sympy==1.13.1->torch>=1.8.0->ultralytics) (1.3.0)\n",
            "Requirement already satisfied: six>=1.5 in /usr/local/lib/python3.10/dist-packages (from python-dateutil>=2.7->matplotlib>=3.3.0->ultralytics) (1.16.0)\n",
            "Requirement already satisfied: MarkupSafe>=2.0 in /usr/local/lib/python3.10/dist-packages (from jinja2->torch>=1.8.0->ultralytics) (3.0.2)\n",
            "\n",
            "    Arguments received: ['yolo', 'help']. Ultralytics 'yolo' commands use the following syntax:\n",
            "\n",
            "        yolo TASK MODE ARGS\n",
            "\n",
            "        Where   TASK (optional) is one of {'segment', 'pose', 'obb', 'classify', 'detect'}\n",
            "                MODE (required) is one of {'track', 'val', 'export', 'train', 'benchmark', 'predict'}\n",
            "                ARGS (optional) are any number of custom 'arg=value' pairs like 'imgsz=320' that override defaults.\n",
            "                    See all ARGS at https://docs.ultralytics.com/usage/cfg or with 'yolo cfg'\n",
            "\n",
            "    1. Train a detection model for 10 epochs with an initial learning_rate of 0.01\n",
            "        yolo train data=coco8.yaml model=yolo11n.pt epochs=10 lr0=0.01\n",
            "\n",
            "    2. Predict a YouTube video using a pretrained segmentation model at image size 320:\n",
            "        yolo predict model=yolo11n-seg.pt source='https://youtu.be/LNwODJXcvt4' imgsz=320\n",
            "\n",
            "    3. Val a pretrained detection model at batch-size 1 and image size 640:\n",
            "        yolo val model=yolo11n.pt data=coco8.yaml batch=1 imgsz=640\n",
            "\n",
            "    4. Export a YOLO11n classification model to ONNX format at image size 224 by 128 (no TASK required)\n",
            "        yolo export model=yolo11n-cls.pt format=onnx imgsz=224,128\n",
            "\n",
            "    5. Streamlit real-time webcam inference GUI\n",
            "        yolo streamlit-predict\n",
            "\n",
            "    6. Ultralytics solutions usage\n",
            "        yolo solutions count or in ['count', 'heatmap', 'queue', 'speed', 'workout', 'analytics', 'help'] source=\"path/to/video/file.mp4\"\n",
            "\n",
            "    7. Run special commands:\n",
            "        yolo help\n",
            "        yolo checks\n",
            "        yolo version\n",
            "        yolo settings\n",
            "        yolo copy-cfg\n",
            "        yolo cfg\n",
            "        yolo solutions help\n",
            "\n",
            "    Docs: https://docs.ultralytics.com\n",
            "    Solutions: https://docs.ultralytics.com/solutions/\n",
            "    Community: https://community.ultralytics.com\n",
            "    GitHub: https://github.com/ultralytics/ultralytics\n",
            "    \n"
          ]
        }
      ],
      "source": [
        "# Instalar ultralytics (asegúrate de haber ejecutado esta celda antes)\n",
        "!pip install ultralytics\n",
        "\n",
        "# Importar YOLO y comprobar la instalación\n",
        "from ultralytics import YOLO\n",
        "\n",
        "# Verificar la instalación (sin `checks()`)\n",
        "!yolo help\n"
      ]
    },
    {
      "cell_type": "code",
      "source": [
        "from google.colab import drive\n",
        "drive.mount('/content/drive')\n"
      ],
      "metadata": {
        "colab": {
          "base_uri": "https://localhost:8080/"
        },
        "id": "6GuxXQN3PtWC",
        "outputId": "fffa9f66-3c66-4124-e389-8c4be728bac9"
      },
      "execution_count": 3,
      "outputs": [
        {
          "output_type": "stream",
          "name": "stdout",
          "text": [
            "Mounted at /content/drive\n"
          ]
        }
      ]
    },
    {
      "cell_type": "code",
      "source": [
        "import os\n",
        "import shutil\n",
        "\n",
        "# Ruta a los datos en Google Drive\n",
        "base_path = \"/content/drive/MyDrive/YOLOv8/datasets\"\n",
        "\n",
        "# Combinar carpetas de imágenes y etiquetas para entrenamiento\n",
        "for category in ['train', 'val']:\n",
        "    for subfolder in ['correct', 'incorrect']:\n",
        "        images_src = os.path.join(base_path, category, 'images', subfolder)\n",
        "        labels_src = os.path.join(base_path, category, 'labels', subfolder)\n",
        "        images_dst = os.path.join(base_path, category, 'images')\n",
        "        labels_dst = os.path.join(base_path, category, 'labels')\n",
        "\n",
        "        if os.path.exists(images_src):\n",
        "            for file in os.listdir(images_src):\n",
        "                shutil.move(os.path.join(images_src, file), images_dst)\n",
        "        if os.path.exists(labels_src):\n",
        "            for file in os.listdir(labels_src):\n",
        "                shutil.move(os.path.join(labels_src, file), labels_dst)\n"
      ],
      "metadata": {
        "id": "hdZQye9ZPw5Z"
      },
      "execution_count": 6,
      "outputs": []
    },
    {
      "cell_type": "code",
      "source": [
        "import os\n",
        "\n",
        "# Ruta base donde están los archivos de etiquetas\n",
        "train_labels_path = \"/content/drive/MyDrive/YOLOv8/datasets/train/labels\"\n",
        "val_labels_path = \"/content/drive/MyDrive/YOLOv8/datasets/val/labels\"\n",
        "\n",
        "# Función para obtener todas las clases utilizadas\n",
        "def get_classes_from_labels(labels_path):\n",
        "    classes = set()\n",
        "    for file in os.listdir(labels_path):\n",
        "        if file.endswith(\".txt\"):  # Asegúrate de solo leer archivos .txt\n",
        "            with open(os.path.join(labels_path, file), 'r') as f:\n",
        "                for line in f:\n",
        "                    class_id = int(line.split()[0])  # La primera columna es la clase\n",
        "                    classes.add(class_id)\n",
        "    return classes\n",
        "\n",
        "# Obtener clases únicas en el conjunto de entrenamiento y validación\n",
        "train_classes = get_classes_from_labels(train_labels_path)\n",
        "val_classes = get_classes_from_labels(val_labels_path)\n",
        "\n",
        "# Combinar todas las clases detectadas\n",
        "all_classes = sorted(train_classes.union(val_classes))\n",
        "\n",
        "print(\"Clases detectadas en el conjunto de entrenamiento:\", sorted(train_classes))\n",
        "print(\"Clases detectadas en el conjunto de validación:\", sorted(val_classes))\n",
        "print(\"Total de clases detectadas:\", len(all_classes))\n",
        "print(\"Clases detectadas (ordenadas):\", all_classes)\n",
        "\n",
        "# Generar un archivo dataset.yaml\n",
        "dataset_yaml = f\"\"\"\n",
        "train: /content/drive/MyDrive/YOLOv8/datasets/train/images\n",
        "val: /content/drive/MyDrive/YOLOv8/datasets/val/images\n",
        "\n",
        "nc: {len(all_classes)}\n",
        "names: {[\"Clase_\" + str(cls) for cls in all_classes]}  # Aquí puedes reemplazar con nombres reales si los conoces\n",
        "\"\"\"\n",
        "\n",
        "# Guardar el archivo dataset.yaml\n",
        "yaml_path = \"/content/drive/MyDrive/YOLOv8/dataset.yaml\"\n",
        "with open(yaml_path, 'w') as f:\n",
        "    f.write(dataset_yaml)\n",
        "\n",
        "print(f\"\\nArchivo dataset.yaml generado en: {yaml_path}\")\n",
        "print(\"\\nContenido sugerido para dataset.yaml:\")\n",
        "print(dataset_yaml)\n"
      ],
      "metadata": {
        "colab": {
          "base_uri": "https://localhost:8080/"
        },
        "id": "1Eosy8AFi1I4",
        "outputId": "ff57f8b2-61d4-42da-80b5-3d9e43256955"
      },
      "execution_count": 7,
      "outputs": [
        {
          "output_type": "stream",
          "name": "stdout",
          "text": [
            "Clases detectadas en el conjunto de entrenamiento: [0, 1, 2, 3, 4]\n",
            "Clases detectadas en el conjunto de validación: [0, 1, 2, 3, 4]\n",
            "Total de clases detectadas: 5\n",
            "Clases detectadas (ordenadas): [0, 1, 2, 3, 4]\n",
            "\n",
            "Archivo dataset.yaml generado en: /content/drive/MyDrive/YOLOv8/dataset.yaml\n",
            "\n",
            "Contenido sugerido para dataset.yaml:\n",
            "\n",
            "train: /content/drive/MyDrive/YOLOv8/datasets/train/images\n",
            "val: /content/drive/MyDrive/YOLOv8/datasets/val/images\n",
            "\n",
            "nc: 5\n",
            "names: ['Clase_0', 'Clase_1', 'Clase_2', 'Clase_3', 'Clase_4']  # Aquí puedes reemplazar con nombres reales si los conoces\n",
            "\n"
          ]
        }
      ]
    },
    {
      "cell_type": "code",
      "source": [
        "# Entrenar YOLOv8\n",
        "from ultralytics import YOLO\n",
        "\n",
        "# Crear un modelo desde cero o cargar uno preentrenado\n",
        "model = YOLO(\"yolov8m.pt\")  # Puedes usar yolov8n.pt para un modelo más pequeño\n",
        "\n",
        "# Entrenar el modelo\n",
        "model.train(\n",
        "    data=\"/content/drive/MyDrive/YOLOv8/dataset.yaml\",  # Ruta al archivo dataset.yaml\n",
        "    epochs=100,\n",
        "    batch=8,\n",
        "    imgsz=640,\n",
        "    optimizer=\"AdamW\",\n",
        "    cos_lr=True\n",
        ")\n"
      ],
      "metadata": {
        "id": "FrW1mhIQl5mp"
      },
      "execution_count": null,
      "outputs": []
    },
    {
      "cell_type": "code",
      "source": [
        "# Validar el modelo entrenado\n",
        "metrics = model.val()\n",
        "print(metrics)\n"
      ],
      "metadata": {
        "id": "g0GdrpTCl7l-"
      },
      "execution_count": null,
      "outputs": []
    },
    {
      "cell_type": "code",
      "source": [
        "# Realizar predicciones en imágenes de validación\n",
        "results = model.predict(\n",
        "    source=\"/content/drive/MyDrive/YOLOv8/datasets/val/images\",\n",
        "    save=True  # Guarda las predicciones en imágenes\n",
        ")\n",
        "\n",
        "# Mostrar los resultados\n",
        "from IPython.display import Image, display\n",
        "import glob\n",
        "\n",
        "# Mostrar las primeras 5 imágenes con predicciones\n",
        "predicted_images = glob.glob(\"runs/detect/predict/*.jpg\")\n",
        "for image_path in predicted_images[:5]:\n",
        "    display(Image(filename=image_path))\n"
      ],
      "metadata": {
        "id": "CR5prHx4l-yQ"
      },
      "execution_count": null,
      "outputs": []
    },
    {
      "cell_type": "code",
      "source": [
        "def validar_conexiones(predicciones, posiciones_correctas):\n",
        "    \"\"\"\n",
        "    Validar si las conexiones son correctas basado en las predicciones.\n",
        "\n",
        "    predicciones: lista de objetos detectados\n",
        "    posiciones_correctas: diccionario con las posiciones esperadas para cada cable\n",
        "    \"\"\"\n",
        "    for prediccion in predicciones:\n",
        "        clase = prediccion['class']  # Índice de clase\n",
        "        bbox = prediccion['bbox']  # [x_center, y_center, width, height]\n",
        "\n",
        "        if clase not in posiciones_correctas:\n",
        "            return \"Incorrecto\"\n",
        "        if not bbox_esta_en_posicion(bbox, posiciones_correctas[clase]):\n",
        "            return \"Incorrecto\"\n",
        "    return \"Correcto\"\n",
        "\n",
        "# Implementa lógica para definir las posiciones correctas y verificar\n"
      ],
      "metadata": {
        "id": "oAsyn9m_mByn"
      },
      "execution_count": null,
      "outputs": []
    },
    {
      "cell_type": "code",
      "source": [
        "# Guardar el modelo entrenado\n",
        "model_path = \"/content/drive/MyDrive/YOLOv8/cable_detector.pt\"\n",
        "model.export(format=\"torchscript\", path=model_path)\n",
        "print(f\"Modelo guardado en: {model_path}\")\n"
      ],
      "metadata": {
        "id": "coOtKneJmFJ-"
      },
      "execution_count": null,
      "outputs": []
    },
    {
      "cell_type": "code",
      "source": [
        "import pandas as pd\n",
        "\n",
        "# Extraer resultados\n",
        "predictions = results.pandas().xyxy[0]  # DataFrame con predicciones\n",
        "predictions.to_csv(\"/content/drive/MyDrive/YOLOv8/predictions.csv\", index=False)\n",
        "print(\"Resultados guardados en predictions.csv\")\n"
      ],
      "metadata": {
        "id": "jwJpxyUgmHWX"
      },
      "execution_count": null,
      "outputs": []
    }
  ]
}